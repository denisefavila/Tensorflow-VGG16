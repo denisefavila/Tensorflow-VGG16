{
  "nbformat": 4,
  "nbformat_minor": 0,
  "metadata": {
    "colab": {
      "name": "analysis_predictions_prod.ipynb",
      "version": "0.3.2",
      "provenance": [],
      "collapsed_sections": [],
      "toc_visible": true,
      "include_colab_link": true
    },
    "kernelspec": {
      "name": "python3",
      "display_name": "Python 3"
    }
  },
  "cells": [
    {
      "cell_type": "markdown",
      "metadata": {
        "id": "view-in-github",
        "colab_type": "text"
      },
      "source": [
        "<a href=\"https://colab.research.google.com/github/denisefavila/Tensorflow-VGG16/blob/master/analysis_predictions_prod.ipynb\" target=\"_parent\"><img src=\"https://colab.research.google.com/assets/colab-badge.svg\" alt=\"Open In Colab\"/></a>"
      ]
    },
    {
      "cell_type": "code",
      "metadata": {
        "id": "T7EshD6h1UJr",
        "colab_type": "code",
        "colab": {}
      },
      "source": [
        "import csv\n",
        "import numpy as np\n",
        "import pandas as pd\n",
        "import json\n",
        "from tqdm import tqdm\n",
        "import matplotlib.pyplot as plt\n",
        "import itertools"
      ],
      "execution_count": 0,
      "outputs": []
    },
    {
      "cell_type": "code",
      "metadata": {
        "id": "zGw7_Pbl1U_b",
        "colab_type": "code",
        "outputId": "5dd80247-3955-4034-b99c-a4a85f737e16",
        "colab": {
          "base_uri": "https://localhost:8080/",
          "height": 124
        }
      },
      "source": [
        "from google.colab import drive\n",
        "drive.mount('/content/drive')"
      ],
      "execution_count": 0,
      "outputs": [
        {
          "output_type": "stream",
          "text": [
            "Go to this URL in a browser: https://accounts.google.com/o/oauth2/auth?client_id=947318989803-6bn6qk8qdgf4n4g3pfee6491hc0brc4i.apps.googleusercontent.com&redirect_uri=urn%3Aietf%3Awg%3Aoauth%3A2.0%3Aoob&scope=email%20https%3A%2F%2Fwww.googleapis.com%2Fauth%2Fdocs.test%20https%3A%2F%2Fwww.googleapis.com%2Fauth%2Fdrive%20https%3A%2F%2Fwww.googleapis.com%2Fauth%2Fdrive.photos.readonly%20https%3A%2F%2Fwww.googleapis.com%2Fauth%2Fpeopleapi.readonly&response_type=code\n",
            "\n",
            "Enter your authorization code:\n",
            "··········\n",
            "Mounted at /content/drive\n"
          ],
          "name": "stdout"
        }
      ]
    },
    {
      "cell_type": "code",
      "metadata": {
        "id": "HpnM_XHQ29OD",
        "colab_type": "code",
        "colab": {}
      },
      "source": [
        "def get_probs(row):\n",
        "    row_dict = json.loads(row._source.get(\"extra\"))\n",
        "    row[\"timestamp\"] = row._source.get(\"@timestamp\")\n",
        "    row[\"id\"] = row_dict.get(\"itinerary_id\")\n",
        "    row[\"predicted_proba\"] = row_dict.get(\"predicted_allocation_probability\")\n",
        "    return row"
      ],
      "execution_count": 0,
      "outputs": []
    },
    {
      "cell_type": "markdown",
      "metadata": {
        "id": "eHW3d07-AOmz",
        "colab_type": "text"
      },
      "source": [
        "# Predictions - Model"
      ]
    },
    {
      "cell_type": "code",
      "metadata": {
        "id": "Q9kgxpoY1ZD8",
        "colab_type": "code",
        "outputId": "c077a7b6-69fd-47f9-85ce-b9bd64ab5460",
        "colab": {
          "base_uri": "https://localhost:8080/",
          "height": 374
        }
      },
      "source": [
        "\n",
        "# Load data\n",
        "\n",
        "path = \"/content/drive/My Drive/data/prediction2.json\"\n",
        "\n",
        "df = pd.read_json(path, lines=True)\n",
        "print(\"Shape: \", df.shape)\n",
        "\n"
      ],
      "execution_count": 0,
      "outputs": [
        {
          "output_type": "error",
          "ename": "ValueError",
          "evalue": "ignored",
          "traceback": [
            "\u001b[0;31m---------------------------------------------------------------------------\u001b[0m",
            "\u001b[0;31mValueError\u001b[0m                                Traceback (most recent call last)",
            "\u001b[0;32m<ipython-input-3-11b984f368a7>\u001b[0m in \u001b[0;36m<module>\u001b[0;34m()\u001b[0m\n\u001b[1;32m      2\u001b[0m \u001b[0mpath\u001b[0m \u001b[0;34m=\u001b[0m \u001b[0;34m\"/content/drive/My Drive/data/prediction2.json\"\u001b[0m\u001b[0;34m\u001b[0m\u001b[0;34m\u001b[0m\u001b[0m\n\u001b[1;32m      3\u001b[0m \u001b[0;34m\u001b[0m\u001b[0m\n\u001b[0;32m----> 4\u001b[0;31m \u001b[0mdf\u001b[0m \u001b[0;34m=\u001b[0m \u001b[0mpd\u001b[0m\u001b[0;34m.\u001b[0m\u001b[0mread_json\u001b[0m\u001b[0;34m(\u001b[0m\u001b[0mpath\u001b[0m\u001b[0;34m,\u001b[0m \u001b[0mlines\u001b[0m\u001b[0;34m=\u001b[0m\u001b[0;32mTrue\u001b[0m\u001b[0;34m)\u001b[0m\u001b[0;34m\u001b[0m\u001b[0;34m\u001b[0m\u001b[0m\n\u001b[0m\u001b[1;32m      5\u001b[0m \u001b[0mprint\u001b[0m\u001b[0;34m(\u001b[0m\u001b[0;34m\"Shape: \"\u001b[0m\u001b[0;34m,\u001b[0m \u001b[0mdf\u001b[0m\u001b[0;34m.\u001b[0m\u001b[0mshape\u001b[0m\u001b[0;34m)\u001b[0m\u001b[0;34m\u001b[0m\u001b[0;34m\u001b[0m\u001b[0m\n\u001b[1;32m      6\u001b[0m \u001b[0;34m\u001b[0m\u001b[0m\n",
            "\u001b[0;32m/usr/local/lib/python3.6/dist-packages/pandas/io/json/json.py\u001b[0m in \u001b[0;36mread_json\u001b[0;34m(path_or_buf, orient, typ, dtype, convert_axes, convert_dates, keep_default_dates, numpy, precise_float, date_unit, encoding, lines, chunksize, compression)\u001b[0m\n\u001b[1;32m    425\u001b[0m         \u001b[0;32mreturn\u001b[0m \u001b[0mjson_reader\u001b[0m\u001b[0;34m\u001b[0m\u001b[0;34m\u001b[0m\u001b[0m\n\u001b[1;32m    426\u001b[0m \u001b[0;34m\u001b[0m\u001b[0m\n\u001b[0;32m--> 427\u001b[0;31m     \u001b[0mresult\u001b[0m \u001b[0;34m=\u001b[0m \u001b[0mjson_reader\u001b[0m\u001b[0;34m.\u001b[0m\u001b[0mread\u001b[0m\u001b[0;34m(\u001b[0m\u001b[0;34m)\u001b[0m\u001b[0;34m\u001b[0m\u001b[0;34m\u001b[0m\u001b[0m\n\u001b[0m\u001b[1;32m    428\u001b[0m     \u001b[0;32mif\u001b[0m \u001b[0mshould_close\u001b[0m\u001b[0;34m:\u001b[0m\u001b[0;34m\u001b[0m\u001b[0;34m\u001b[0m\u001b[0m\n\u001b[1;32m    429\u001b[0m         \u001b[0;32mtry\u001b[0m\u001b[0;34m:\u001b[0m\u001b[0;34m\u001b[0m\u001b[0;34m\u001b[0m\u001b[0m\n",
            "\u001b[0;32m/usr/local/lib/python3.6/dist-packages/pandas/io/json/json.py\u001b[0m in \u001b[0;36mread\u001b[0;34m(self)\u001b[0m\n\u001b[1;32m    532\u001b[0m             \u001b[0mdata\u001b[0m \u001b[0;34m=\u001b[0m \u001b[0mto_str\u001b[0m\u001b[0;34m(\u001b[0m\u001b[0mself\u001b[0m\u001b[0;34m.\u001b[0m\u001b[0mdata\u001b[0m\u001b[0;34m)\u001b[0m\u001b[0;34m\u001b[0m\u001b[0;34m\u001b[0m\u001b[0m\n\u001b[1;32m    533\u001b[0m             obj = self._get_object_parser(\n\u001b[0;32m--> 534\u001b[0;31m                 \u001b[0mself\u001b[0m\u001b[0;34m.\u001b[0m\u001b[0m_combine_lines\u001b[0m\u001b[0;34m(\u001b[0m\u001b[0mdata\u001b[0m\u001b[0;34m.\u001b[0m\u001b[0msplit\u001b[0m\u001b[0;34m(\u001b[0m\u001b[0;34m'\\n'\u001b[0m\u001b[0;34m)\u001b[0m\u001b[0;34m)\u001b[0m\u001b[0;34m\u001b[0m\u001b[0;34m\u001b[0m\u001b[0m\n\u001b[0m\u001b[1;32m    535\u001b[0m             )\n\u001b[1;32m    536\u001b[0m         \u001b[0;32melse\u001b[0m\u001b[0;34m:\u001b[0m\u001b[0;34m\u001b[0m\u001b[0;34m\u001b[0m\u001b[0m\n",
            "\u001b[0;32m/usr/local/lib/python3.6/dist-packages/pandas/io/json/json.py\u001b[0m in \u001b[0;36m_get_object_parser\u001b[0;34m(self, json)\u001b[0m\n\u001b[1;32m    554\u001b[0m         \u001b[0mobj\u001b[0m \u001b[0;34m=\u001b[0m \u001b[0;32mNone\u001b[0m\u001b[0;34m\u001b[0m\u001b[0;34m\u001b[0m\u001b[0m\n\u001b[1;32m    555\u001b[0m         \u001b[0;32mif\u001b[0m \u001b[0mtyp\u001b[0m \u001b[0;34m==\u001b[0m \u001b[0;34m'frame'\u001b[0m\u001b[0;34m:\u001b[0m\u001b[0;34m\u001b[0m\u001b[0;34m\u001b[0m\u001b[0m\n\u001b[0;32m--> 556\u001b[0;31m             \u001b[0mobj\u001b[0m \u001b[0;34m=\u001b[0m \u001b[0mFrameParser\u001b[0m\u001b[0;34m(\u001b[0m\u001b[0mjson\u001b[0m\u001b[0;34m,\u001b[0m \u001b[0;34m**\u001b[0m\u001b[0mkwargs\u001b[0m\u001b[0;34m)\u001b[0m\u001b[0;34m.\u001b[0m\u001b[0mparse\u001b[0m\u001b[0;34m(\u001b[0m\u001b[0;34m)\u001b[0m\u001b[0;34m\u001b[0m\u001b[0;34m\u001b[0m\u001b[0m\n\u001b[0m\u001b[1;32m    557\u001b[0m \u001b[0;34m\u001b[0m\u001b[0m\n\u001b[1;32m    558\u001b[0m         \u001b[0;32mif\u001b[0m \u001b[0mtyp\u001b[0m \u001b[0;34m==\u001b[0m \u001b[0;34m'series'\u001b[0m \u001b[0;32mor\u001b[0m \u001b[0mobj\u001b[0m \u001b[0;32mis\u001b[0m \u001b[0;32mNone\u001b[0m\u001b[0;34m:\u001b[0m\u001b[0;34m\u001b[0m\u001b[0;34m\u001b[0m\u001b[0m\n",
            "\u001b[0;32m/usr/local/lib/python3.6/dist-packages/pandas/io/json/json.py\u001b[0m in \u001b[0;36mparse\u001b[0;34m(self)\u001b[0m\n\u001b[1;32m    650\u001b[0m \u001b[0;34m\u001b[0m\u001b[0m\n\u001b[1;32m    651\u001b[0m         \u001b[0;32melse\u001b[0m\u001b[0;34m:\u001b[0m\u001b[0;34m\u001b[0m\u001b[0;34m\u001b[0m\u001b[0m\n\u001b[0;32m--> 652\u001b[0;31m             \u001b[0mself\u001b[0m\u001b[0;34m.\u001b[0m\u001b[0m_parse_no_numpy\u001b[0m\u001b[0;34m(\u001b[0m\u001b[0;34m)\u001b[0m\u001b[0;34m\u001b[0m\u001b[0;34m\u001b[0m\u001b[0m\n\u001b[0m\u001b[1;32m    653\u001b[0m \u001b[0;34m\u001b[0m\u001b[0m\n\u001b[1;32m    654\u001b[0m         \u001b[0;32mif\u001b[0m \u001b[0mself\u001b[0m\u001b[0;34m.\u001b[0m\u001b[0mobj\u001b[0m \u001b[0;32mis\u001b[0m \u001b[0;32mNone\u001b[0m\u001b[0;34m:\u001b[0m\u001b[0;34m\u001b[0m\u001b[0;34m\u001b[0m\u001b[0m\n",
            "\u001b[0;32m/usr/local/lib/python3.6/dist-packages/pandas/io/json/json.py\u001b[0m in \u001b[0;36m_parse_no_numpy\u001b[0;34m(self)\u001b[0m\n\u001b[1;32m    869\u001b[0m         \u001b[0;32mif\u001b[0m \u001b[0morient\u001b[0m \u001b[0;34m==\u001b[0m \u001b[0;34m\"columns\"\u001b[0m\u001b[0;34m:\u001b[0m\u001b[0;34m\u001b[0m\u001b[0;34m\u001b[0m\u001b[0m\n\u001b[1;32m    870\u001b[0m             self.obj = DataFrame(\n\u001b[0;32m--> 871\u001b[0;31m                 loads(json, precise_float=self.precise_float), dtype=None)\n\u001b[0m\u001b[1;32m    872\u001b[0m         \u001b[0;32melif\u001b[0m \u001b[0morient\u001b[0m \u001b[0;34m==\u001b[0m \u001b[0;34m\"split\"\u001b[0m\u001b[0;34m:\u001b[0m\u001b[0;34m\u001b[0m\u001b[0;34m\u001b[0m\u001b[0m\n\u001b[1;32m    873\u001b[0m             decoded = {str(k): v for k, v in compat.iteritems(\n",
            "\u001b[0;31mValueError\u001b[0m: Expected object or value"
          ]
        }
      ]
    },
    {
      "cell_type": "code",
      "metadata": {
        "id": "U5JtcSZI1nYJ",
        "colab_type": "code",
        "outputId": "8079129d-2e60-4717-b421-1fb6603a1355",
        "colab": {
          "base_uri": "https://localhost:8080/",
          "height": 34
        }
      },
      "source": [
        "'''\n",
        "df.head()\n",
        "'''"
      ],
      "execution_count": 0,
      "outputs": [
        {
          "output_type": "execute_result",
          "data": {
            "text/plain": [
              "'\\ndf.head()\\n'"
            ]
          },
          "metadata": {
            "tags": []
          },
          "execution_count": 17
        }
      ]
    },
    {
      "cell_type": "code",
      "metadata": {
        "id": "ai6yd1GT2oBH",
        "colab_type": "code",
        "colab": {}
      },
      "source": [
        "# json.loads(df._source[0].get(\"extra\"))"
      ],
      "execution_count": 0,
      "outputs": []
    },
    {
      "cell_type": "code",
      "metadata": {
        "id": "qrWP-aJXJrJV",
        "colab_type": "code",
        "outputId": "c17db41c-4419-48c7-8787-3bd3ffde1353",
        "colab": {
          "base_uri": "https://localhost:8080/",
          "height": 34
        }
      },
      "source": [
        "''' \n",
        "\n",
        "tqdm.pandas()\n",
        "\n",
        "df = df.progress_apply(get_probs, axis=1)\n",
        "\n",
        "'''"
      ],
      "execution_count": 0,
      "outputs": [
        {
          "output_type": "execute_result",
          "data": {
            "text/plain": [
              "' \\n\\ntqdm.pandas()\\n\\ndf = df.progress_apply(get_probs, axis=1)\\n\\n'"
            ]
          },
          "metadata": {
            "tags": []
          },
          "execution_count": 19
        }
      ]
    },
    {
      "cell_type": "code",
      "metadata": {
        "id": "B5e7UFBA_InR",
        "colab_type": "code",
        "colab": {}
      },
      "source": [
        "# data.to_csv(\"/content/drive/My Drive/data/prediction2.csv\")"
      ],
      "execution_count": 0,
      "outputs": []
    },
    {
      "cell_type": "code",
      "metadata": {
        "id": "sgu_Q0ZnF0n1",
        "colab_type": "code",
        "outputId": "0522931c-323b-47a7-8e13-20e16e8f540b",
        "colab": {
          "base_uri": "https://localhost:8080/",
          "height": 34
        }
      },
      "source": [
        "# Load data\n",
        "\n",
        "path = \"/content/drive/Team Drives/allocation_model/prediction2.csv\"\n",
        "\n",
        "df = pd.read_csv(path)\n",
        "print(\"Shape: \", df.shape)"
      ],
      "execution_count": 0,
      "outputs": [
        {
          "output_type": "stream",
          "text": [
            "Shape:  (213838, 4)\n"
          ],
          "name": "stdout"
        }
      ]
    },
    {
      "cell_type": "code",
      "metadata": {
        "id": "lHq9rto3_Dep",
        "colab_type": "code",
        "colab": {}
      },
      "source": [
        "data = df[[\"timestamp\", \"id\", \"predicted_proba\"]]"
      ],
      "execution_count": 0,
      "outputs": []
    },
    {
      "cell_type": "code",
      "metadata": {
        "id": "p7TKYcp8_QAE",
        "colab_type": "code",
        "outputId": "224694c8-e952-47a4-abf7-1f945d65c9c3",
        "colab": {
          "base_uri": "https://localhost:8080/",
          "height": 34
        }
      },
      "source": [
        "data.shape"
      ],
      "execution_count": 0,
      "outputs": [
        {
          "output_type": "execute_result",
          "data": {
            "text/plain": [
              "(213838, 3)"
            ]
          },
          "metadata": {
            "tags": []
          },
          "execution_count": 23
        }
      ]
    },
    {
      "cell_type": "code",
      "metadata": {
        "id": "ktty9805_R6o",
        "colab_type": "code",
        "outputId": "431603d0-23ed-48b5-80f6-bf6cad263bac",
        "colab": {
          "base_uri": "https://localhost:8080/",
          "height": 69
        }
      },
      "source": [
        "# Number of duplicated predictions (exactly the same)\n",
        "data.duplicated().value_counts()"
      ],
      "execution_count": 0,
      "outputs": [
        {
          "output_type": "execute_result",
          "data": {
            "text/plain": [
              "False    213214\n",
              "True        624\n",
              "dtype: int64"
            ]
          },
          "metadata": {
            "tags": []
          },
          "execution_count": 24
        }
      ]
    },
    {
      "cell_type": "code",
      "metadata": {
        "id": "818-r0PS_Tos",
        "colab_type": "code",
        "colab": {}
      },
      "source": [
        "# Drop duplicated lines\n",
        "data = data.drop_duplicates()"
      ],
      "execution_count": 0,
      "outputs": []
    },
    {
      "cell_type": "code",
      "metadata": {
        "id": "RbD2AtXNFr-D",
        "colab_type": "code",
        "colab": {}
      },
      "source": [
        "# Drop duplicated predictions to the same itinerary - keep the first one\n",
        "data = data.drop_duplicates(subset=[\"id\"], keep=\"first\")\n"
      ],
      "execution_count": 0,
      "outputs": []
    },
    {
      "cell_type": "code",
      "metadata": {
        "id": "y5fyJ_Vz_ZDR",
        "colab_type": "code",
        "outputId": "4a2d2992-e7b6-48bb-e977-5b075f564c97",
        "colab": {
          "base_uri": "https://localhost:8080/",
          "height": 34
        }
      },
      "source": [
        "data.shape"
      ],
      "execution_count": 0,
      "outputs": [
        {
          "output_type": "execute_result",
          "data": {
            "text/plain": [
              "(121695, 3)"
            ]
          },
          "metadata": {
            "tags": []
          },
          "execution_count": 27
        }
      ]
    },
    {
      "cell_type": "code",
      "metadata": {
        "id": "5ucR73wZ_Zj8",
        "colab_type": "code",
        "outputId": "251f101c-8220-4379-9591-316f4f5ec255",
        "colab": {
          "base_uri": "https://localhost:8080/",
          "height": 52
        }
      },
      "source": [
        "print(data.timestamp.max()),\n",
        "print(data.timestamp.min())"
      ],
      "execution_count": 0,
      "outputs": [
        {
          "output_type": "stream",
          "text": [
            "2019-05-22T22:59:54.310Z\n",
            "2019-05-15T21:05:15.142Z\n"
          ],
          "name": "stdout"
        }
      ]
    },
    {
      "cell_type": "code",
      "metadata": {
        "id": "i5PD_NJkAfjN",
        "colab_type": "code",
        "colab": {}
      },
      "source": [
        "# Drop old itineraries (for some reason we have predictions to them)\n",
        "data = data[data[\"id\"] >= 13500000]"
      ],
      "execution_count": 0,
      "outputs": []
    },
    {
      "cell_type": "code",
      "metadata": {
        "id": "C5EIjGMNGKpt",
        "colab_type": "code",
        "outputId": "77ae081b-1c34-4c69-8cd2-d94a64cf548f",
        "colab": {
          "base_uri": "https://localhost:8080/",
          "height": 34
        }
      },
      "source": [
        "print(\"Final examples:\", data.shape)"
      ],
      "execution_count": 0,
      "outputs": [
        {
          "output_type": "stream",
          "text": [
            "Final examples: (120904, 3)\n"
          ],
          "name": "stdout"
        }
      ]
    },
    {
      "cell_type": "code",
      "metadata": {
        "id": "2cX41IXFAk7b",
        "colab_type": "code",
        "outputId": "a72c0cf6-b4de-4698-d63c-ce55aa2c6386",
        "colab": {
          "base_uri": "https://localhost:8080/",
          "height": 52
        }
      },
      "source": [
        "print(\"Range total: \", data[\"id\"].max() - data[\"id\"].min())\n",
        "print(\"Percentage of itineraries with preditions: \", data.shape[0]/float(data[\"id\"].max() - data[\"id\"].min()) )"
      ],
      "execution_count": 0,
      "outputs": [
        {
          "output_type": "stream",
          "text": [
            "Range total:  280443\n",
            "Percentage of itineraries with preditions:  0.4311179098782997\n"
          ],
          "name": "stdout"
        }
      ]
    },
    {
      "cell_type": "markdown",
      "metadata": {
        "id": "eFMZH5nFAR9X",
        "colab_type": "text"
      },
      "source": [
        "# Status itinerary"
      ]
    },
    {
      "cell_type": "code",
      "metadata": {
        "id": "jyW3R0O-_eqB",
        "colab_type": "code",
        "outputId": "709beb0a-040b-4409-9365-99f3e8074979",
        "colab": {
          "base_uri": "https://localhost:8080/",
          "height": 34
        }
      },
      "source": [
        "# Load data\n",
        "\n",
        "path = \"/content/drive/Team Drives/allocation_model/itinerary_status_1505-2305.csv\"\n",
        "\n",
        "status = pd.read_csv(path, names=[\"itinerary_id\", \"product\", \"created\", \"status\", \n",
        "                                  \"accepted\", \"dropped\", \"finished\"])\n",
        "print(\"Shape: \", df.shape)"
      ],
      "execution_count": 0,
      "outputs": [
        {
          "output_type": "stream",
          "text": [
            "Shape:  (213838, 4)\n"
          ],
          "name": "stdout"
        }
      ]
    },
    {
      "cell_type": "code",
      "metadata": {
        "id": "kiExq6_bAIxQ",
        "colab_type": "code",
        "outputId": "1ae95639-904a-41aa-b3d0-6490daacc64f",
        "colab": {
          "base_uri": "https://localhost:8080/",
          "height": 206
        }
      },
      "source": [
        "status.head()"
      ],
      "execution_count": 0,
      "outputs": [
        {
          "output_type": "execute_result",
          "data": {
            "text/html": [
              "<div>\n",
              "<style scoped>\n",
              "    .dataframe tbody tr th:only-of-type {\n",
              "        vertical-align: middle;\n",
              "    }\n",
              "\n",
              "    .dataframe tbody tr th {\n",
              "        vertical-align: top;\n",
              "    }\n",
              "\n",
              "    .dataframe thead th {\n",
              "        text-align: right;\n",
              "    }\n",
              "</style>\n",
              "<table border=\"1\" class=\"dataframe\">\n",
              "  <thead>\n",
              "    <tr style=\"text-align: right;\">\n",
              "      <th></th>\n",
              "      <th>itinerary_id</th>\n",
              "      <th>product</th>\n",
              "      <th>created</th>\n",
              "      <th>status</th>\n",
              "      <th>accepted</th>\n",
              "      <th>dropped</th>\n",
              "      <th>finished</th>\n",
              "    </tr>\n",
              "  </thead>\n",
              "  <tbody>\n",
              "    <tr>\n",
              "      <th>0</th>\n",
              "      <td>13590416</td>\n",
              "      <td>2</td>\n",
              "      <td>2019-05-15 00:00:22.012744</td>\n",
              "      <td>cancelled</td>\n",
              "      <td>None</td>\n",
              "      <td>None</td>\n",
              "      <td>2019-05-15 00:00:25.180312</td>\n",
              "    </tr>\n",
              "    <tr>\n",
              "      <th>1</th>\n",
              "      <td>13590412</td>\n",
              "      <td>2</td>\n",
              "      <td>2019-05-15 00:01:20.488432</td>\n",
              "      <td>cancelledWithCharge</td>\n",
              "      <td>2019-05-15 00:04:13.368203</td>\n",
              "      <td>None</td>\n",
              "      <td>2019-05-15 00:18:43.023896</td>\n",
              "    </tr>\n",
              "    <tr>\n",
              "      <th>2</th>\n",
              "      <td>13590399</td>\n",
              "      <td>0</td>\n",
              "      <td>2019-05-15 00:05:29.216773</td>\n",
              "      <td>cancelled</td>\n",
              "      <td>None</td>\n",
              "      <td>None</td>\n",
              "      <td>2019-05-15 00:06:57.795438</td>\n",
              "    </tr>\n",
              "    <tr>\n",
              "      <th>3</th>\n",
              "      <td>13590425</td>\n",
              "      <td>2</td>\n",
              "      <td>2019-05-15 00:11:01.838824</td>\n",
              "      <td>cancelled</td>\n",
              "      <td>None</td>\n",
              "      <td>None</td>\n",
              "      <td>2019-05-15 00:11:26.438296</td>\n",
              "    </tr>\n",
              "    <tr>\n",
              "      <th>4</th>\n",
              "      <td>13590354</td>\n",
              "      <td>2</td>\n",
              "      <td>2019-05-15 00:16:16.890267</td>\n",
              "      <td>cancelled</td>\n",
              "      <td>None</td>\n",
              "      <td>None</td>\n",
              "      <td>2019-05-15 00:18:37.373659</td>\n",
              "    </tr>\n",
              "  </tbody>\n",
              "</table>\n",
              "</div>"
            ],
            "text/plain": [
              "   itinerary_id  product  ... dropped                    finished\n",
              "0      13590416        2  ...    None  2019-05-15 00:00:25.180312\n",
              "1      13590412        2  ...    None  2019-05-15 00:18:43.023896\n",
              "2      13590399        0  ...    None  2019-05-15 00:06:57.795438\n",
              "3      13590425        2  ...    None  2019-05-15 00:11:26.438296\n",
              "4      13590354        2  ...    None  2019-05-15 00:18:37.373659\n",
              "\n",
              "[5 rows x 7 columns]"
            ]
          },
          "metadata": {
            "tags": []
          },
          "execution_count": 53
        }
      ]
    },
    {
      "cell_type": "code",
      "metadata": {
        "id": "doGcJUfkFKZU",
        "colab_type": "code",
        "colab": {}
      },
      "source": [
        "status = status.merge(data[[\"id\", \"predicted_proba\"]],\n",
        "                      how=\"left\",\n",
        "                      left_on=[\"itinerary_id\"],\n",
        "                      right_on=[\"id\"]).drop(columns=[\"id\"])"
      ],
      "execution_count": 0,
      "outputs": []
    },
    {
      "cell_type": "code",
      "metadata": {
        "id": "Gh28zAAKG8xU",
        "colab_type": "code",
        "outputId": "597121d2-170b-473a-94d3-a56bae57a7b9",
        "colab": {
          "base_uri": "https://localhost:8080/",
          "height": 206
        }
      },
      "source": [
        "status.head()"
      ],
      "execution_count": 0,
      "outputs": [
        {
          "output_type": "execute_result",
          "data": {
            "text/html": [
              "<div>\n",
              "<style scoped>\n",
              "    .dataframe tbody tr th:only-of-type {\n",
              "        vertical-align: middle;\n",
              "    }\n",
              "\n",
              "    .dataframe tbody tr th {\n",
              "        vertical-align: top;\n",
              "    }\n",
              "\n",
              "    .dataframe thead th {\n",
              "        text-align: right;\n",
              "    }\n",
              "</style>\n",
              "<table border=\"1\" class=\"dataframe\">\n",
              "  <thead>\n",
              "    <tr style=\"text-align: right;\">\n",
              "      <th></th>\n",
              "      <th>itinerary_id</th>\n",
              "      <th>product</th>\n",
              "      <th>created</th>\n",
              "      <th>status</th>\n",
              "      <th>accepted</th>\n",
              "      <th>dropped</th>\n",
              "      <th>finished</th>\n",
              "      <th>predicted_proba</th>\n",
              "    </tr>\n",
              "  </thead>\n",
              "  <tbody>\n",
              "    <tr>\n",
              "      <th>0</th>\n",
              "      <td>13590416</td>\n",
              "      <td>2</td>\n",
              "      <td>2019-05-15 00:00:22.012744</td>\n",
              "      <td>cancelled</td>\n",
              "      <td>None</td>\n",
              "      <td>None</td>\n",
              "      <td>2019-05-15 00:00:25.180312</td>\n",
              "      <td>NaN</td>\n",
              "    </tr>\n",
              "    <tr>\n",
              "      <th>1</th>\n",
              "      <td>13590412</td>\n",
              "      <td>2</td>\n",
              "      <td>2019-05-15 00:01:20.488432</td>\n",
              "      <td>cancelledWithCharge</td>\n",
              "      <td>2019-05-15 00:04:13.368203</td>\n",
              "      <td>None</td>\n",
              "      <td>2019-05-15 00:18:43.023896</td>\n",
              "      <td>0.572635</td>\n",
              "    </tr>\n",
              "    <tr>\n",
              "      <th>2</th>\n",
              "      <td>13590399</td>\n",
              "      <td>0</td>\n",
              "      <td>2019-05-15 00:05:29.216773</td>\n",
              "      <td>cancelled</td>\n",
              "      <td>None</td>\n",
              "      <td>None</td>\n",
              "      <td>2019-05-15 00:06:57.795438</td>\n",
              "      <td>NaN</td>\n",
              "    </tr>\n",
              "    <tr>\n",
              "      <th>3</th>\n",
              "      <td>13590425</td>\n",
              "      <td>2</td>\n",
              "      <td>2019-05-15 00:11:01.838824</td>\n",
              "      <td>cancelled</td>\n",
              "      <td>None</td>\n",
              "      <td>None</td>\n",
              "      <td>2019-05-15 00:11:26.438296</td>\n",
              "      <td>NaN</td>\n",
              "    </tr>\n",
              "    <tr>\n",
              "      <th>4</th>\n",
              "      <td>13590354</td>\n",
              "      <td>2</td>\n",
              "      <td>2019-05-15 00:16:16.890267</td>\n",
              "      <td>cancelled</td>\n",
              "      <td>None</td>\n",
              "      <td>None</td>\n",
              "      <td>2019-05-15 00:18:37.373659</td>\n",
              "      <td>NaN</td>\n",
              "    </tr>\n",
              "  </tbody>\n",
              "</table>\n",
              "</div>"
            ],
            "text/plain": [
              "   itinerary_id  product  ...                    finished predicted_proba\n",
              "0      13590416        2  ...  2019-05-15 00:00:25.180312             NaN\n",
              "1      13590412        2  ...  2019-05-15 00:18:43.023896        0.572635\n",
              "2      13590399        0  ...  2019-05-15 00:06:57.795438             NaN\n",
              "3      13590425        2  ...  2019-05-15 00:11:26.438296             NaN\n",
              "4      13590354        2  ...  2019-05-15 00:18:37.373659             NaN\n",
              "\n",
              "[5 rows x 8 columns]"
            ]
          },
          "metadata": {
            "tags": []
          },
          "execution_count": 55
        }
      ]
    },
    {
      "cell_type": "code",
      "metadata": {
        "id": "3Vop0e1PT_UL",
        "colab_type": "code",
        "colab": {}
      },
      "source": [
        "status[\"prediction_flag\"] = np.where((status[\"predicted_proba\"].notnull()),\n",
        "                                    1, 0)"
      ],
      "execution_count": 0,
      "outputs": []
    },
    {
      "cell_type": "code",
      "metadata": {
        "id": "-kAvhVD9UJjT",
        "colab_type": "code",
        "outputId": "79f9899b-27ea-46e9-dc81-b86648fe7db4",
        "colab": {
          "base_uri": "https://localhost:8080/",
          "height": 206
        }
      },
      "source": [
        "status.head()"
      ],
      "execution_count": 0,
      "outputs": [
        {
          "output_type": "execute_result",
          "data": {
            "text/html": [
              "<div>\n",
              "<style scoped>\n",
              "    .dataframe tbody tr th:only-of-type {\n",
              "        vertical-align: middle;\n",
              "    }\n",
              "\n",
              "    .dataframe tbody tr th {\n",
              "        vertical-align: top;\n",
              "    }\n",
              "\n",
              "    .dataframe thead th {\n",
              "        text-align: right;\n",
              "    }\n",
              "</style>\n",
              "<table border=\"1\" class=\"dataframe\">\n",
              "  <thead>\n",
              "    <tr style=\"text-align: right;\">\n",
              "      <th></th>\n",
              "      <th>itinerary_id</th>\n",
              "      <th>product</th>\n",
              "      <th>created</th>\n",
              "      <th>status</th>\n",
              "      <th>accepted</th>\n",
              "      <th>dropped</th>\n",
              "      <th>finished</th>\n",
              "      <th>predicted_proba</th>\n",
              "      <th>prediction_flag</th>\n",
              "    </tr>\n",
              "  </thead>\n",
              "  <tbody>\n",
              "    <tr>\n",
              "      <th>0</th>\n",
              "      <td>13590416</td>\n",
              "      <td>2</td>\n",
              "      <td>2019-05-15 00:00:22.012744</td>\n",
              "      <td>cancelled</td>\n",
              "      <td>None</td>\n",
              "      <td>None</td>\n",
              "      <td>2019-05-15 00:00:25.180312</td>\n",
              "      <td>NaN</td>\n",
              "      <td>0</td>\n",
              "    </tr>\n",
              "    <tr>\n",
              "      <th>1</th>\n",
              "      <td>13590412</td>\n",
              "      <td>2</td>\n",
              "      <td>2019-05-15 00:01:20.488432</td>\n",
              "      <td>cancelledWithCharge</td>\n",
              "      <td>2019-05-15 00:04:13.368203</td>\n",
              "      <td>None</td>\n",
              "      <td>2019-05-15 00:18:43.023896</td>\n",
              "      <td>0.572635</td>\n",
              "      <td>1</td>\n",
              "    </tr>\n",
              "    <tr>\n",
              "      <th>2</th>\n",
              "      <td>13590399</td>\n",
              "      <td>0</td>\n",
              "      <td>2019-05-15 00:05:29.216773</td>\n",
              "      <td>cancelled</td>\n",
              "      <td>None</td>\n",
              "      <td>None</td>\n",
              "      <td>2019-05-15 00:06:57.795438</td>\n",
              "      <td>NaN</td>\n",
              "      <td>0</td>\n",
              "    </tr>\n",
              "    <tr>\n",
              "      <th>3</th>\n",
              "      <td>13590425</td>\n",
              "      <td>2</td>\n",
              "      <td>2019-05-15 00:11:01.838824</td>\n",
              "      <td>cancelled</td>\n",
              "      <td>None</td>\n",
              "      <td>None</td>\n",
              "      <td>2019-05-15 00:11:26.438296</td>\n",
              "      <td>NaN</td>\n",
              "      <td>0</td>\n",
              "    </tr>\n",
              "    <tr>\n",
              "      <th>4</th>\n",
              "      <td>13590354</td>\n",
              "      <td>2</td>\n",
              "      <td>2019-05-15 00:16:16.890267</td>\n",
              "      <td>cancelled</td>\n",
              "      <td>None</td>\n",
              "      <td>None</td>\n",
              "      <td>2019-05-15 00:18:37.373659</td>\n",
              "      <td>NaN</td>\n",
              "      <td>0</td>\n",
              "    </tr>\n",
              "  </tbody>\n",
              "</table>\n",
              "</div>"
            ],
            "text/plain": [
              "   itinerary_id  product  ... predicted_proba prediction_flag\n",
              "0      13590416        2  ...             NaN               0\n",
              "1      13590412        2  ...        0.572635               1\n",
              "2      13590399        0  ...             NaN               0\n",
              "3      13590425        2  ...             NaN               0\n",
              "4      13590354        2  ...             NaN               0\n",
              "\n",
              "[5 rows x 9 columns]"
            ]
          },
          "metadata": {
            "tags": []
          },
          "execution_count": 57
        }
      ]
    },
    {
      "cell_type": "code",
      "metadata": {
        "id": "iO5WVlmASqEk",
        "colab_type": "code",
        "colab": {}
      },
      "source": [
        "final_date = pd.to_datetime(\"2019-05-22T19:59\")\n",
        "initial_date = pd.to_datetime(\"2019-05-15T18:05\")\n",
        "\n",
        "status[\"created\"] = pd.to_datetime(status[\"created\"])\n",
        "\n",
        "status.loc[(status[\"created\"] >= initial_date) & (status[\"created\"] <= final_date)].groupby(\"status\").count()"
      ],
      "execution_count": 0,
      "outputs": []
    },
    {
      "cell_type": "code",
      "metadata": {
        "id": "9dz_zdyYfiw1",
        "colab_type": "code",
        "colab": {}
      },
      "source": [
        "# Discard Pro\n",
        "status = status.loc[status[\"product\"] != 1]"
      ],
      "execution_count": 0,
      "outputs": []
    },
    {
      "cell_type": "code",
      "metadata": {
        "id": "PbwEEE2dHGwB",
        "colab_type": "code",
        "colab": {}
      },
      "source": [
        "# Get only itineraries with predictions\n",
        "status = status.loc[status[\"predicted_proba\"].notnull()]"
      ],
      "execution_count": 0,
      "outputs": []
    },
    {
      "cell_type": "code",
      "metadata": {
        "id": "mZqHJTMfHdZH",
        "colab_type": "code",
        "colab": {}
      },
      "source": [
        "# Predictinos are wrong in production - we are getting the dropped \n",
        "status[\"predicted_proba\"] = 1 - status[\"predicted_proba\"]"
      ],
      "execution_count": 0,
      "outputs": []
    },
    {
      "cell_type": "code",
      "metadata": {
        "id": "jCFwEtcrHbcN",
        "colab_type": "code",
        "outputId": "40c6d9d6-f139-4048-c26b-d6a076481455",
        "colab": {
          "base_uri": "https://localhost:8080/",
          "height": 206
        }
      },
      "source": [
        "status.head()"
      ],
      "execution_count": 0,
      "outputs": [
        {
          "output_type": "execute_result",
          "data": {
            "text/html": [
              "<div>\n",
              "<style scoped>\n",
              "    .dataframe tbody tr th:only-of-type {\n",
              "        vertical-align: middle;\n",
              "    }\n",
              "\n",
              "    .dataframe tbody tr th {\n",
              "        vertical-align: top;\n",
              "    }\n",
              "\n",
              "    .dataframe thead th {\n",
              "        text-align: right;\n",
              "    }\n",
              "</style>\n",
              "<table border=\"1\" class=\"dataframe\">\n",
              "  <thead>\n",
              "    <tr style=\"text-align: right;\">\n",
              "      <th></th>\n",
              "      <th>itinerary_id</th>\n",
              "      <th>product</th>\n",
              "      <th>created</th>\n",
              "      <th>status</th>\n",
              "      <th>accepted</th>\n",
              "      <th>dropped</th>\n",
              "      <th>finished</th>\n",
              "      <th>predicted_proba</th>\n",
              "      <th>prediction_flag</th>\n",
              "    </tr>\n",
              "  </thead>\n",
              "  <tbody>\n",
              "    <tr>\n",
              "      <th>1</th>\n",
              "      <td>13590412</td>\n",
              "      <td>2</td>\n",
              "      <td>2019-05-15 00:01:20.488432</td>\n",
              "      <td>cancelledWithCharge</td>\n",
              "      <td>2019-05-15 00:04:13.368203</td>\n",
              "      <td>None</td>\n",
              "      <td>2019-05-15 00:18:43.023896</td>\n",
              "      <td>0.427365</td>\n",
              "      <td>1</td>\n",
              "    </tr>\n",
              "    <tr>\n",
              "      <th>118</th>\n",
              "      <td>13590543</td>\n",
              "      <td>2</td>\n",
              "      <td>2019-05-15 07:26:37.209134</td>\n",
              "      <td>finished</td>\n",
              "      <td>2019-05-15 07:28:10.710294</td>\n",
              "      <td>None</td>\n",
              "      <td>2019-05-15 09:47:16</td>\n",
              "      <td>0.461308</td>\n",
              "      <td>1</td>\n",
              "    </tr>\n",
              "    <tr>\n",
              "      <th>124</th>\n",
              "      <td>13590530</td>\n",
              "      <td>2</td>\n",
              "      <td>2019-05-15 07:30:45.932463</td>\n",
              "      <td>cancelledWithCharge</td>\n",
              "      <td>2019-05-15 07:37:25.066506</td>\n",
              "      <td>None</td>\n",
              "      <td>2019-05-15 13:16:17.890432</td>\n",
              "      <td>0.281285</td>\n",
              "      <td>1</td>\n",
              "    </tr>\n",
              "    <tr>\n",
              "      <th>268</th>\n",
              "      <td>13590697</td>\n",
              "      <td>2</td>\n",
              "      <td>2019-05-15 07:49:29.513487</td>\n",
              "      <td>finished</td>\n",
              "      <td>2019-05-15 07:55:32.262150</td>\n",
              "      <td>None</td>\n",
              "      <td>2019-05-15 08:38:19</td>\n",
              "      <td>0.322187</td>\n",
              "      <td>1</td>\n",
              "    </tr>\n",
              "    <tr>\n",
              "      <th>368</th>\n",
              "      <td>13590805</td>\n",
              "      <td>2</td>\n",
              "      <td>2019-05-15 07:59:36.022221</td>\n",
              "      <td>finished</td>\n",
              "      <td>2019-05-15 07:59:58.363166</td>\n",
              "      <td>None</td>\n",
              "      <td>2019-05-15 15:07:13</td>\n",
              "      <td>0.412232</td>\n",
              "      <td>1</td>\n",
              "    </tr>\n",
              "  </tbody>\n",
              "</table>\n",
              "</div>"
            ],
            "text/plain": [
              "     itinerary_id  product  ... predicted_proba prediction_flag\n",
              "1        13590412        2  ...        0.427365               1\n",
              "118      13590543        2  ...        0.461308               1\n",
              "124      13590530        2  ...        0.281285               1\n",
              "268      13590697        2  ...        0.322187               1\n",
              "368      13590805        2  ...        0.412232               1\n",
              "\n",
              "[5 rows x 9 columns]"
            ]
          },
          "metadata": {
            "tags": []
          },
          "execution_count": 42
        }
      ]
    },
    {
      "cell_type": "code",
      "metadata": {
        "id": "guFue6S-LIeW",
        "colab_type": "code",
        "outputId": "bf9f1bcc-7744-4760-97a4-1f8e4ce4e36a",
        "colab": {
          "base_uri": "https://localhost:8080/",
          "height": 121
        }
      },
      "source": [
        "status[\"status\"].value_counts()"
      ],
      "execution_count": 0,
      "outputs": [
        {
          "output_type": "execute_result",
          "data": {
            "text/plain": [
              "finished               107813\n",
              "cancelled                2904\n",
              "cancelledWithCharge      2667\n",
              "dropped                   315\n",
              "merged                     44\n",
              "Name: status, dtype: int64"
            ]
          },
          "metadata": {
            "tags": []
          },
          "execution_count": 43
        }
      ]
    },
    {
      "cell_type": "code",
      "metadata": {
        "id": "o8WKRNGXHcMt",
        "colab_type": "code",
        "outputId": "85753c7d-cdbb-45b3-f968-3b2d402bdab2",
        "colab": {
          "base_uri": "https://localhost:8080/",
          "height": 34
        }
      },
      "source": [
        "status.shape"
      ],
      "execution_count": 0,
      "outputs": [
        {
          "output_type": "execute_result",
          "data": {
            "text/plain": [
              "(113743, 9)"
            ]
          },
          "metadata": {
            "tags": []
          },
          "execution_count": 45
        }
      ]
    },
    {
      "cell_type": "code",
      "metadata": {
        "id": "2viUku9DHp09",
        "colab_type": "code",
        "colab": {}
      },
      "source": [
        "# I'm defining \"allocated itineraries\" as having an \"accepted\" date. \n",
        "# In training, we considered only \"finished\" and \"dropped\" itineraries (dropped = 0, finished = 1)\n",
        "# We need to define how we will evaluate the canceled and cancelledWithCharge itineraries.\n",
        "\n",
        "status[\"allocated_flag\"] = np.where((status[\"accepted\"] != \"None\"),\n",
        "                                    1, 0)"
      ],
      "execution_count": 0,
      "outputs": []
    },
    {
      "cell_type": "code",
      "metadata": {
        "id": "9R1yfOKeINCl",
        "colab_type": "code",
        "colab": {}
      },
      "source": [
        "# set the threshold >= 0.5\n",
        "status[\"prediction\"] = np.where((status[\"predicted_proba\"] >= 0.50),\n",
        "                                    1, 0)"
      ],
      "execution_count": 0,
      "outputs": []
    },
    {
      "cell_type": "code",
      "metadata": {
        "id": "WsVqsIhLH05J",
        "colab_type": "code",
        "outputId": "9dee63d1-fbf3-4e97-fc95-993eaf5b738c",
        "colab": {
          "base_uri": "https://localhost:8080/",
          "height": 206
        }
      },
      "source": [
        "status.head()"
      ],
      "execution_count": 0,
      "outputs": [
        {
          "output_type": "execute_result",
          "data": {
            "text/html": [
              "<div>\n",
              "<style scoped>\n",
              "    .dataframe tbody tr th:only-of-type {\n",
              "        vertical-align: middle;\n",
              "    }\n",
              "\n",
              "    .dataframe tbody tr th {\n",
              "        vertical-align: top;\n",
              "    }\n",
              "\n",
              "    .dataframe thead th {\n",
              "        text-align: right;\n",
              "    }\n",
              "</style>\n",
              "<table border=\"1\" class=\"dataframe\">\n",
              "  <thead>\n",
              "    <tr style=\"text-align: right;\">\n",
              "      <th></th>\n",
              "      <th>itinerary_id</th>\n",
              "      <th>product</th>\n",
              "      <th>created</th>\n",
              "      <th>status</th>\n",
              "      <th>accepted</th>\n",
              "      <th>dropped</th>\n",
              "      <th>finished</th>\n",
              "      <th>predicted_proba</th>\n",
              "      <th>prediction_flag</th>\n",
              "      <th>prediction</th>\n",
              "    </tr>\n",
              "  </thead>\n",
              "  <tbody>\n",
              "    <tr>\n",
              "      <th>1</th>\n",
              "      <td>13590412</td>\n",
              "      <td>2</td>\n",
              "      <td>2019-05-15 00:01:20.488432</td>\n",
              "      <td>cancelledWithCharge</td>\n",
              "      <td>2019-05-15 00:04:13.368203</td>\n",
              "      <td>None</td>\n",
              "      <td>2019-05-15 00:18:43.023896</td>\n",
              "      <td>0.427365</td>\n",
              "      <td>1</td>\n",
              "      <td>0</td>\n",
              "    </tr>\n",
              "    <tr>\n",
              "      <th>118</th>\n",
              "      <td>13590543</td>\n",
              "      <td>2</td>\n",
              "      <td>2019-05-15 07:26:37.209134</td>\n",
              "      <td>finished</td>\n",
              "      <td>2019-05-15 07:28:10.710294</td>\n",
              "      <td>None</td>\n",
              "      <td>2019-05-15 09:47:16</td>\n",
              "      <td>0.461308</td>\n",
              "      <td>1</td>\n",
              "      <td>0</td>\n",
              "    </tr>\n",
              "    <tr>\n",
              "      <th>124</th>\n",
              "      <td>13590530</td>\n",
              "      <td>2</td>\n",
              "      <td>2019-05-15 07:30:45.932463</td>\n",
              "      <td>cancelledWithCharge</td>\n",
              "      <td>2019-05-15 07:37:25.066506</td>\n",
              "      <td>None</td>\n",
              "      <td>2019-05-15 13:16:17.890432</td>\n",
              "      <td>0.281285</td>\n",
              "      <td>1</td>\n",
              "      <td>0</td>\n",
              "    </tr>\n",
              "    <tr>\n",
              "      <th>268</th>\n",
              "      <td>13590697</td>\n",
              "      <td>2</td>\n",
              "      <td>2019-05-15 07:49:29.513487</td>\n",
              "      <td>finished</td>\n",
              "      <td>2019-05-15 07:55:32.262150</td>\n",
              "      <td>None</td>\n",
              "      <td>2019-05-15 08:38:19</td>\n",
              "      <td>0.322187</td>\n",
              "      <td>1</td>\n",
              "      <td>0</td>\n",
              "    </tr>\n",
              "    <tr>\n",
              "      <th>368</th>\n",
              "      <td>13590805</td>\n",
              "      <td>2</td>\n",
              "      <td>2019-05-15 07:59:36.022221</td>\n",
              "      <td>finished</td>\n",
              "      <td>2019-05-15 07:59:58.363166</td>\n",
              "      <td>None</td>\n",
              "      <td>2019-05-15 15:07:13</td>\n",
              "      <td>0.412232</td>\n",
              "      <td>1</td>\n",
              "      <td>0</td>\n",
              "    </tr>\n",
              "  </tbody>\n",
              "</table>\n",
              "</div>"
            ],
            "text/plain": [
              "     itinerary_id  product  ... prediction_flag prediction\n",
              "1        13590412        2  ...               1          0\n",
              "118      13590543        2  ...               1          0\n",
              "124      13590530        2  ...               1          0\n",
              "268      13590697        2  ...               1          0\n",
              "368      13590805        2  ...               1          0\n",
              "\n",
              "[5 rows x 10 columns]"
            ]
          },
          "metadata": {
            "tags": []
          },
          "execution_count": 51
        }
      ]
    },
    {
      "cell_type": "code",
      "metadata": {
        "id": "rCxL-cisH2sb",
        "colab_type": "code",
        "colab": {}
      },
      "source": [
        "def plot_confusion_matrix(cm, classes,\n",
        "                          normalize=False,\n",
        "                          title='Confusion matrix',\n",
        "                          cmap=plt.cm.Blues):\n",
        "    \"\"\"\n",
        "    This function prints and plots the confusion matrix.\n",
        "    Normalization can be applied by setting `normalize=True`.\n",
        "    \"\"\"\n",
        "    if normalize:\n",
        "        cm = cm.astype('float') / cm.sum(axis=1)[:, np.newaxis]\n",
        "        print(\"Normalized confusion matrix\")\n",
        "    else:\n",
        "        print('Confusion matrix, without normalization')\n",
        "\n",
        "    print(cm)\n",
        "\n",
        "    plt.imshow(cm, interpolation='nearest', cmap=cmap)\n",
        "    plt.title(title)\n",
        "    plt.colorbar()\n",
        "    tick_marks = np.arange(len(classes))\n",
        "    plt.xticks(tick_marks, classes, rotation=45)\n",
        "    plt.yticks(tick_marks, classes)\n",
        "\n",
        "    fmt = '.2f' if normalize else 'd'\n",
        "    thresh = cm.max() / 2.\n",
        "    for i, j in itertools.product(range(cm.shape[0]), range(cm.shape[1])):\n",
        "        plt.text(j, i, format(cm[i, j], fmt),\n",
        "                 horizontalalignment=\"center\",\n",
        "                 color=\"white\" if cm[i, j] > thresh else \"black\")\n",
        "\n",
        "    plt.ylabel('True label')\n",
        "    plt.xlabel('Predicted label')\n",
        "    plt.tight_layout()"
      ],
      "execution_count": 0,
      "outputs": []
    },
    {
      "cell_type": "code",
      "metadata": {
        "id": "DzNszdT-H-kb",
        "colab_type": "code",
        "outputId": "90bd157c-90dd-4488-f9ad-7813a2606418",
        "colab": {
          "base_uri": "https://localhost:8080/",
          "height": 713
        }
      },
      "source": [
        "from sklearn.metrics import confusion_matrix\n",
        "\n",
        "class_names = [\"non_allocated\",\"allocated\"]\n",
        "\n",
        "\n",
        "# Compute confusion matrix\n",
        "cnf_matrix = confusion_matrix(status[\"allocated_flag\"],\n",
        "                              status[\"prediction\"])\n",
        "\n",
        "np.set_printoptions(precision=2)\n",
        "\n",
        "\n",
        "# Plot normalized confusion matrix\n",
        "plt.figure()\n",
        "plot_confusion_matrix(cnf_matrix, classes=class_names, normalize=False,\n",
        "                      title='Normalized confusion matrix')\n",
        "\n",
        "plt.show()"
      ],
      "execution_count": 0,
      "outputs": [
        {
          "output_type": "error",
          "ename": "KeyError",
          "evalue": "ignored",
          "traceback": [
            "\u001b[0;31m---------------------------------------------------------------------------\u001b[0m",
            "\u001b[0;31mKeyError\u001b[0m                                  Traceback (most recent call last)",
            "\u001b[0;32m/usr/local/lib/python3.6/dist-packages/pandas/core/indexes/base.py\u001b[0m in \u001b[0;36mget_loc\u001b[0;34m(self, key, method, tolerance)\u001b[0m\n\u001b[1;32m   2656\u001b[0m             \u001b[0;32mtry\u001b[0m\u001b[0;34m:\u001b[0m\u001b[0;34m\u001b[0m\u001b[0;34m\u001b[0m\u001b[0m\n\u001b[0;32m-> 2657\u001b[0;31m                 \u001b[0;32mreturn\u001b[0m \u001b[0mself\u001b[0m\u001b[0;34m.\u001b[0m\u001b[0m_engine\u001b[0m\u001b[0;34m.\u001b[0m\u001b[0mget_loc\u001b[0m\u001b[0;34m(\u001b[0m\u001b[0mkey\u001b[0m\u001b[0;34m)\u001b[0m\u001b[0;34m\u001b[0m\u001b[0;34m\u001b[0m\u001b[0m\n\u001b[0m\u001b[1;32m   2658\u001b[0m             \u001b[0;32mexcept\u001b[0m \u001b[0mKeyError\u001b[0m\u001b[0;34m:\u001b[0m\u001b[0;34m\u001b[0m\u001b[0;34m\u001b[0m\u001b[0m\n",
            "\u001b[0;32mpandas/_libs/index.pyx\u001b[0m in \u001b[0;36mpandas._libs.index.IndexEngine.get_loc\u001b[0;34m()\u001b[0m\n",
            "\u001b[0;32mpandas/_libs/index.pyx\u001b[0m in \u001b[0;36mpandas._libs.index.IndexEngine.get_loc\u001b[0;34m()\u001b[0m\n",
            "\u001b[0;32mpandas/_libs/hashtable_class_helper.pxi\u001b[0m in \u001b[0;36mpandas._libs.hashtable.PyObjectHashTable.get_item\u001b[0;34m()\u001b[0m\n",
            "\u001b[0;32mpandas/_libs/hashtable_class_helper.pxi\u001b[0m in \u001b[0;36mpandas._libs.hashtable.PyObjectHashTable.get_item\u001b[0;34m()\u001b[0m\n",
            "\u001b[0;31mKeyError\u001b[0m: 'allocated_flag'",
            "\nDuring handling of the above exception, another exception occurred:\n",
            "\u001b[0;31mKeyError\u001b[0m                                  Traceback (most recent call last)",
            "\u001b[0;32m<ipython-input-49-8350abece10c>\u001b[0m in \u001b[0;36m<module>\u001b[0;34m()\u001b[0m\n\u001b[1;32m      5\u001b[0m \u001b[0;34m\u001b[0m\u001b[0m\n\u001b[1;32m      6\u001b[0m \u001b[0;31m# Compute confusion matrix\u001b[0m\u001b[0;34m\u001b[0m\u001b[0;34m\u001b[0m\u001b[0;34m\u001b[0m\u001b[0m\n\u001b[0;32m----> 7\u001b[0;31m cnf_matrix = confusion_matrix(status[\"allocated_flag\"],\n\u001b[0m\u001b[1;32m      8\u001b[0m                               status[\"prediction\"])\n\u001b[1;32m      9\u001b[0m \u001b[0;34m\u001b[0m\u001b[0m\n",
            "\u001b[0;32m/usr/local/lib/python3.6/dist-packages/pandas/core/frame.py\u001b[0m in \u001b[0;36m__getitem__\u001b[0;34m(self, key)\u001b[0m\n\u001b[1;32m   2925\u001b[0m             \u001b[0;32mif\u001b[0m \u001b[0mself\u001b[0m\u001b[0;34m.\u001b[0m\u001b[0mcolumns\u001b[0m\u001b[0;34m.\u001b[0m\u001b[0mnlevels\u001b[0m \u001b[0;34m>\u001b[0m \u001b[0;36m1\u001b[0m\u001b[0;34m:\u001b[0m\u001b[0;34m\u001b[0m\u001b[0;34m\u001b[0m\u001b[0m\n\u001b[1;32m   2926\u001b[0m                 \u001b[0;32mreturn\u001b[0m \u001b[0mself\u001b[0m\u001b[0;34m.\u001b[0m\u001b[0m_getitem_multilevel\u001b[0m\u001b[0;34m(\u001b[0m\u001b[0mkey\u001b[0m\u001b[0;34m)\u001b[0m\u001b[0;34m\u001b[0m\u001b[0;34m\u001b[0m\u001b[0m\n\u001b[0;32m-> 2927\u001b[0;31m             \u001b[0mindexer\u001b[0m \u001b[0;34m=\u001b[0m \u001b[0mself\u001b[0m\u001b[0;34m.\u001b[0m\u001b[0mcolumns\u001b[0m\u001b[0;34m.\u001b[0m\u001b[0mget_loc\u001b[0m\u001b[0;34m(\u001b[0m\u001b[0mkey\u001b[0m\u001b[0;34m)\u001b[0m\u001b[0;34m\u001b[0m\u001b[0;34m\u001b[0m\u001b[0m\n\u001b[0m\u001b[1;32m   2928\u001b[0m             \u001b[0;32mif\u001b[0m \u001b[0mis_integer\u001b[0m\u001b[0;34m(\u001b[0m\u001b[0mindexer\u001b[0m\u001b[0;34m)\u001b[0m\u001b[0;34m:\u001b[0m\u001b[0;34m\u001b[0m\u001b[0;34m\u001b[0m\u001b[0m\n\u001b[1;32m   2929\u001b[0m                 \u001b[0mindexer\u001b[0m \u001b[0;34m=\u001b[0m \u001b[0;34m[\u001b[0m\u001b[0mindexer\u001b[0m\u001b[0;34m]\u001b[0m\u001b[0;34m\u001b[0m\u001b[0;34m\u001b[0m\u001b[0m\n",
            "\u001b[0;32m/usr/local/lib/python3.6/dist-packages/pandas/core/indexes/base.py\u001b[0m in \u001b[0;36mget_loc\u001b[0;34m(self, key, method, tolerance)\u001b[0m\n\u001b[1;32m   2657\u001b[0m                 \u001b[0;32mreturn\u001b[0m \u001b[0mself\u001b[0m\u001b[0;34m.\u001b[0m\u001b[0m_engine\u001b[0m\u001b[0;34m.\u001b[0m\u001b[0mget_loc\u001b[0m\u001b[0;34m(\u001b[0m\u001b[0mkey\u001b[0m\u001b[0;34m)\u001b[0m\u001b[0;34m\u001b[0m\u001b[0;34m\u001b[0m\u001b[0m\n\u001b[1;32m   2658\u001b[0m             \u001b[0;32mexcept\u001b[0m \u001b[0mKeyError\u001b[0m\u001b[0;34m:\u001b[0m\u001b[0;34m\u001b[0m\u001b[0;34m\u001b[0m\u001b[0m\n\u001b[0;32m-> 2659\u001b[0;31m                 \u001b[0;32mreturn\u001b[0m \u001b[0mself\u001b[0m\u001b[0;34m.\u001b[0m\u001b[0m_engine\u001b[0m\u001b[0;34m.\u001b[0m\u001b[0mget_loc\u001b[0m\u001b[0;34m(\u001b[0m\u001b[0mself\u001b[0m\u001b[0;34m.\u001b[0m\u001b[0m_maybe_cast_indexer\u001b[0m\u001b[0;34m(\u001b[0m\u001b[0mkey\u001b[0m\u001b[0;34m)\u001b[0m\u001b[0;34m)\u001b[0m\u001b[0;34m\u001b[0m\u001b[0;34m\u001b[0m\u001b[0m\n\u001b[0m\u001b[1;32m   2660\u001b[0m         \u001b[0mindexer\u001b[0m \u001b[0;34m=\u001b[0m \u001b[0mself\u001b[0m\u001b[0;34m.\u001b[0m\u001b[0mget_indexer\u001b[0m\u001b[0;34m(\u001b[0m\u001b[0;34m[\u001b[0m\u001b[0mkey\u001b[0m\u001b[0;34m]\u001b[0m\u001b[0;34m,\u001b[0m \u001b[0mmethod\u001b[0m\u001b[0;34m=\u001b[0m\u001b[0mmethod\u001b[0m\u001b[0;34m,\u001b[0m \u001b[0mtolerance\u001b[0m\u001b[0;34m=\u001b[0m\u001b[0mtolerance\u001b[0m\u001b[0;34m)\u001b[0m\u001b[0;34m\u001b[0m\u001b[0;34m\u001b[0m\u001b[0m\n\u001b[1;32m   2661\u001b[0m         \u001b[0;32mif\u001b[0m \u001b[0mindexer\u001b[0m\u001b[0;34m.\u001b[0m\u001b[0mndim\u001b[0m \u001b[0;34m>\u001b[0m \u001b[0;36m1\u001b[0m \u001b[0;32mor\u001b[0m \u001b[0mindexer\u001b[0m\u001b[0;34m.\u001b[0m\u001b[0msize\u001b[0m \u001b[0;34m>\u001b[0m \u001b[0;36m1\u001b[0m\u001b[0;34m:\u001b[0m\u001b[0;34m\u001b[0m\u001b[0;34m\u001b[0m\u001b[0m\n",
            "\u001b[0;32mpandas/_libs/index.pyx\u001b[0m in \u001b[0;36mpandas._libs.index.IndexEngine.get_loc\u001b[0;34m()\u001b[0m\n",
            "\u001b[0;32mpandas/_libs/index.pyx\u001b[0m in \u001b[0;36mpandas._libs.index.IndexEngine.get_loc\u001b[0;34m()\u001b[0m\n",
            "\u001b[0;32mpandas/_libs/hashtable_class_helper.pxi\u001b[0m in \u001b[0;36mpandas._libs.hashtable.PyObjectHashTable.get_item\u001b[0;34m()\u001b[0m\n",
            "\u001b[0;32mpandas/_libs/hashtable_class_helper.pxi\u001b[0m in \u001b[0;36mpandas._libs.hashtable.PyObjectHashTable.get_item\u001b[0;34m()\u001b[0m\n",
            "\u001b[0;31mKeyError\u001b[0m: 'allocated_flag'"
          ]
        }
      ]
    },
    {
      "cell_type": "code",
      "metadata": {
        "id": "dMLXj-bfIaUC",
        "colab_type": "code",
        "outputId": "1e84f1df-aca6-4328-eec0-c3bea904d795",
        "colab": {
          "base_uri": "https://localhost:8080/",
          "height": 34
        }
      },
      "source": [
        "223/4454"
      ],
      "execution_count": 0,
      "outputs": [
        {
          "output_type": "execute_result",
          "data": {
            "text/plain": [
              "0.05006735518634935"
            ]
          },
          "metadata": {
            "tags": []
          },
          "execution_count": 1
        }
      ]
    },
    {
      "cell_type": "code",
      "metadata": {
        "id": "-aqBPU2uD2r4",
        "colab_type": "code",
        "colab": {}
      },
      "source": [
        ""
      ],
      "execution_count": 0,
      "outputs": []
    }
  ]
}